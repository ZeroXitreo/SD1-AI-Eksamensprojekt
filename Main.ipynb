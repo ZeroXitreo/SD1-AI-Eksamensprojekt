{
 "cells": [
  {
   "cell_type": "code",
   "execution_count": 1,
   "id": "special-onion",
   "metadata": {},
   "outputs": [],
   "source": [
    "#hide\n",
    "!pip install -Uqq fastbook\n",
    "import fastbook\n",
    "fastbook.setup_book()"
   ]
  },
  {
   "cell_type": "code",
   "execution_count": 2,
   "id": "young-wellington",
   "metadata": {},
   "outputs": [],
   "source": [
    "#hide\n",
    "from fastbook import *"
   ]
  },
  {
   "cell_type": "code",
   "execution_count": 8,
   "id": "interim-album",
   "metadata": {},
   "outputs": [],
   "source": [
    "path = Path('imgs')"
   ]
  },
  {
   "cell_type": "code",
   "execution_count": null,
   "id": "sunset-macro",
   "metadata": {},
   "outputs": [],
   "source": [
    "path.ls()"
   ]
  },
  {
   "cell_type": "code",
   "execution_count": null,
   "id": "fundamental-franklin",
   "metadata": {},
   "outputs": [],
   "source": [
    "train = path/\"train\""
   ]
  },
  {
   "cell_type": "code",
   "execution_count": null,
   "id": "adapted-boring",
   "metadata": {},
   "outputs": [],
   "source": [
    "train.ls()"
   ]
  },
  {
   "cell_type": "code",
   "execution_count": null,
   "id": "connected-mailing",
   "metadata": {},
   "outputs": [],
   "source": [
    "fns = get_image_files(train)\n",
    "fns"
   ]
  },
  {
   "cell_type": "code",
   "execution_count": null,
   "id": "horizontal-mainstream",
   "metadata": {},
   "outputs": [],
   "source": [
    "failed = verify_images(fns)\n",
    "failed"
   ]
  },
  {
   "cell_type": "code",
   "execution_count": null,
   "id": "listed-attachment",
   "metadata": {},
   "outputs": [],
   "source": [
    "failed.map(Path.unlink)"
   ]
  },
  {
   "cell_type": "code",
   "execution_count": null,
   "id": "visible-defendant",
   "metadata": {},
   "outputs": [],
   "source": [
    "fns[0]"
   ]
  },
  {
   "cell_type": "code",
   "execution_count": null,
   "id": "optional-genesis",
   "metadata": {},
   "outputs": [],
   "source": [
    "def get_dls(bs, size):\n",
    "    dBlock = DataBlock(blocks=(ImageBlock, CategoryBlock),\n",
    "                       get_items = get_image_files,\n",
    "                       splitter = RandomSplitter(valid_pct = .2, seed=42),\n",
    "                       get_y = parent_label,\n",
    "                       item_tfms = Resize(640),\n",
    "                       batch_tfms=aug_transforms(size=size, min_scale=0.75))\n",
    "    return dBlock.dataloaders(train, num_workers=0, bs=bs)"
   ]
  },
  {
   "cell_type": "code",
   "execution_count": null,
   "id": "alone-starter",
   "metadata": {},
   "outputs": [],
   "source": [
    "dls = get_dls(128, 128)\n",
    "dls.train.show_batch(max_n=5, nrows=1)"
   ]
  },
  {
   "cell_type": "code",
   "execution_count": null,
   "id": "stretch-clearing",
   "metadata": {},
   "outputs": [],
   "source": [
    "learn = cnn_learner(dls, resnet50, metrics=accuracy)"
   ]
  },
  {
   "cell_type": "code",
   "execution_count": null,
   "id": "medical-south",
   "metadata": {},
   "outputs": [],
   "source": [
    "learn.fine_tune(5, 1e-3)"
   ]
  },
  {
   "cell_type": "code",
   "execution_count": null,
   "id": "mobile-polls",
   "metadata": {},
   "outputs": [],
   "source": [
    "interp = ClassificationInterpretation.from_learner(learn)\n",
    "interp.plot_confusion_matrix()"
   ]
  },
  {
   "cell_type": "code",
   "execution_count": null,
   "id": "electoral-convenience",
   "metadata": {},
   "outputs": [],
   "source": [
    "learn.validate()"
   ]
  },
  {
   "cell_type": "code",
   "execution_count": null,
   "id": "deluxe-numbers",
   "metadata": {},
   "outputs": [],
   "source": [
    "learn.export()"
   ]
  },
  {
   "cell_type": "code",
   "execution_count": 3,
   "id": "improving-shame",
   "metadata": {},
   "outputs": [],
   "source": [
    "learn = load_learner(\"export.pkl\")"
   ]
  },
  {
   "cell_type": "code",
   "execution_count": 9,
   "id": "julian-owner",
   "metadata": {},
   "outputs": [],
   "source": [
    "test = path/\"test\""
   ]
  },
  {
   "cell_type": "code",
   "execution_count": 10,
   "id": "mysterious-cooking",
   "metadata": {},
   "outputs": [
    {
     "data": {
      "text/plain": [
       "(#79726) [Path('imgs/test/img_1.jpg'),Path('imgs/test/img_10.jpg'),Path('imgs/test/img_100.jpg'),Path('imgs/test/img_1000.jpg'),Path('imgs/test/img_100000.jpg'),Path('imgs/test/img_100001.jpg'),Path('imgs/test/img_100002.jpg'),Path('imgs/test/img_100003.jpg'),Path('imgs/test/img_100004.jpg'),Path('imgs/test/img_100005.jpg')...]"
      ]
     },
     "execution_count": 10,
     "metadata": {},
     "output_type": "execute_result"
    }
   ],
   "source": [
    "test.ls()"
   ]
  },
  {
   "cell_type": "code",
   "execution_count": 11,
   "id": "final-girlfriend",
   "metadata": {},
   "outputs": [
    {
     "data": {
      "text/plain": [
       "(#79726) [Path('imgs/test/img_1.jpg'),Path('imgs/test/img_10.jpg'),Path('imgs/test/img_100.jpg'),Path('imgs/test/img_1000.jpg'),Path('imgs/test/img_100000.jpg'),Path('imgs/test/img_100001.jpg'),Path('imgs/test/img_100002.jpg'),Path('imgs/test/img_100003.jpg'),Path('imgs/test/img_100004.jpg'),Path('imgs/test/img_100005.jpg')...]"
      ]
     },
     "execution_count": 11,
     "metadata": {},
     "output_type": "execute_result"
    }
   ],
   "source": [
    "test_gif = get_image_files(test)\n",
    "test_gif"
   ]
  },
  {
   "cell_type": "code",
   "execution_count": null,
   "id": "mechanical-decline",
   "metadata": {},
   "outputs": [],
   "source": [
    "failed_test_gif = verify_images(test_gif)\n",
    "failed_test_gif"
   ]
  },
  {
   "cell_type": "code",
   "execution_count": null,
   "id": "offensive-south",
   "metadata": {},
   "outputs": [],
   "source": [
    "failed_test_gif.map(Path.unlink)"
   ]
  },
  {
   "cell_type": "code",
   "execution_count": 12,
   "id": "pacific-empire",
   "metadata": {},
   "outputs": [
    {
     "data": {
      "text/plain": [
       "128"
      ]
     },
     "execution_count": 12,
     "metadata": {},
     "output_type": "execute_result"
    }
   ],
   "source": [
    "batchSize = 64*2**1\n",
    "batchSize"
   ]
  },
  {
   "cell_type": "code",
   "execution_count": null,
   "id": "flying-proportion",
   "metadata": {},
   "outputs": [
    {
     "data": {
      "text/html": [
       "\n",
       "    <div>\n",
       "        <style>\n",
       "            /* Turns off some styling */\n",
       "            progress {\n",
       "                /* gets rid of default border in Firefox and Opera. */\n",
       "                border: none;\n",
       "                /* Needs to be in here for Safari polyfill so background images work as expected. */\n",
       "                background-size: auto;\n",
       "            }\n",
       "            .progress-bar-interrupted, .progress-bar-interrupted::-webkit-progress-bar {\n",
       "                background: #F44336;\n",
       "            }\n",
       "        </style>\n",
       "      <progress value='10' class='' max='623' style='width:300px; height:20px; vertical-align: middle;'></progress>\n",
       "      1.61% [10/623 01:09<1:11:19 0.0534]\n",
       "    </div>\n",
       "    "
      ],
      "text/plain": [
       "<IPython.core.display.HTML object>"
      ]
     },
     "metadata": {},
     "output_type": "display_data"
    }
   ],
   "source": [
    "dl = learn.dls.test_dl(test_gif, bs=batchSize)\n",
    "predictions,  _ = learn.get_preds(dl=dl)"
   ]
  },
  {
   "cell_type": "code",
   "execution_count": null,
   "id": "neither-drink",
   "metadata": {},
   "outputs": [],
   "source": [
    "import math"
   ]
  },
  {
   "cell_type": "code",
   "execution_count": null,
   "id": "scenic-picnic",
   "metadata": {},
   "outputs": [],
   "source": [
    "from pathlib import Path\n",
    "dfv = pd.read_csv(\"sample_submission.csv\", index_col=\"img\")\n",
    "\n",
    "def EvaluateNumber(x):\n",
    "    return math.floor(x * 10000) / 10000\n",
    "\n",
    "i = 0\n",
    "for test_img in test_gif:\n",
    "    fileName = test_img.stem + test_img.suffix\n",
    "    dfv.loc[fileName] = [EvaluateNumber(predictions[i][0].item()),\n",
    "                         EvaluateNumber(predictions[i][1].item()),\n",
    "                         EvaluateNumber(predictions[i][2].item()),\n",
    "                         EvaluateNumber(predictions[i][3].item()),\n",
    "                         EvaluateNumber(predictions[i][4].item()),\n",
    "                         EvaluateNumber(predictions[i][5].item()),\n",
    "                         EvaluateNumber(predictions[i][6].item()),\n",
    "                         EvaluateNumber(predictions[i][7].item()),\n",
    "                         EvaluateNumber(predictions[i][8].item()),\n",
    "                         EvaluateNumber(predictions[i][9].item())]\n",
    "    i = i + 1\n",
    "    \n",
    "dfv"
   ]
  },
  {
   "cell_type": "code",
   "execution_count": null,
   "id": "occasional-uganda",
   "metadata": {},
   "outputs": [],
   "source": [
    "dfv.to_csv(\"submission.csv\")"
   ]
  },
  {
   "cell_type": "code",
   "execution_count": null,
   "id": "interim-junction",
   "metadata": {},
   "outputs": [],
   "source": []
  }
 ],
 "metadata": {
  "kernelspec": {
   "display_name": "Python 3",
   "language": "python",
   "name": "python3"
  },
  "language_info": {
   "codemirror_mode": {
    "name": "ipython",
    "version": 3
   },
   "file_extension": ".py",
   "mimetype": "text/x-python",
   "name": "python",
   "nbconvert_exporter": "python",
   "pygments_lexer": "ipython3",
   "version": "3.8.5"
  }
 },
 "nbformat": 4,
 "nbformat_minor": 5
}
